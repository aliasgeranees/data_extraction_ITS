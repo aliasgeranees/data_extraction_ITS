{
 "cells": [
  {
   "cell_type": "code",
   "execution_count": 1,
   "id": "bb28756f",
   "metadata": {},
   "outputs": [],
   "source": [
    "import pandas as pd\n"
   ]
  },
  {
   "cell_type": "code",
   "execution_count": 2,
   "id": "2f8dedb6",
   "metadata": {},
   "outputs": [],
   "source": [
    "df = pd.read_csv('dont_send.csv', header=None)\n",
    "\n",
    "# Flatten the DataFrame to get a list of all values\n",
    "numbers = df.values.flatten()\n",
    "\n",
    "# Remove spaces and commas from each value in the list\n",
    "cleaned_numbers = [str(num).replace(' ', '').replace(')', '').replace('(', '').replace('-', '').replace('+', '') for num in numbers]\n",
    "\n",
    "# Convert the cleaned list back to a DataFrame\n",
    "cleaned_df = pd.DataFrame(cleaned_numbers)\n",
    "\n",
    "# Write the cleaned DataFrame to a new CSV file\n",
    "cleaned_df.to_csv('output.csv', index=False, header=False)"
   ]
  },
  {
   "cell_type": "code",
   "execution_count": null,
   "id": "fb89c5e7",
   "metadata": {},
   "outputs": [],
   "source": []
  }
 ],
 "metadata": {
  "kernelspec": {
   "display_name": "Python 3 (ipykernel)",
   "language": "python",
   "name": "python3"
  },
  "language_info": {
   "codemirror_mode": {
    "name": "ipython",
    "version": 3
   },
   "file_extension": ".py",
   "mimetype": "text/x-python",
   "name": "python",
   "nbconvert_exporter": "python",
   "pygments_lexer": "ipython3",
   "version": "3.10.4"
  }
 },
 "nbformat": 4,
 "nbformat_minor": 5
}
